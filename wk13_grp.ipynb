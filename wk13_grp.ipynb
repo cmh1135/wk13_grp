{
 "cells": [
  {
   "cell_type": "code",
   "execution_count": 133,
   "id": "240f55f4",
   "metadata": {},
   "outputs": [
    {
     "data": {
      "text/html": [
       "<div>\n",
       "<style scoped>\n",
       "    .dataframe tbody tr th:only-of-type {\n",
       "        vertical-align: middle;\n",
       "    }\n",
       "\n",
       "    .dataframe tbody tr th {\n",
       "        vertical-align: top;\n",
       "    }\n",
       "\n",
       "    .dataframe thead th {\n",
       "        text-align: right;\n",
       "    }\n",
       "</style>\n",
       "<table border=\"1\" class=\"dataframe\">\n",
       "  <thead>\n",
       "    <tr style=\"text-align: right;\">\n",
       "      <th></th>\n",
       "      <th>Pregnancies</th>\n",
       "      <th>Glucose</th>\n",
       "      <th>BloodPressure</th>\n",
       "      <th>SkinThickness</th>\n",
       "      <th>Insulin</th>\n",
       "      <th>BMI</th>\n",
       "      <th>DiabetesPedigreeFunction</th>\n",
       "      <th>Age</th>\n",
       "      <th>Outcome</th>\n",
       "    </tr>\n",
       "  </thead>\n",
       "  <tbody>\n",
       "    <tr>\n",
       "      <th>763</th>\n",
       "      <td>10</td>\n",
       "      <td>101</td>\n",
       "      <td>76</td>\n",
       "      <td>48</td>\n",
       "      <td>180</td>\n",
       "      <td>32.9</td>\n",
       "      <td>0.171</td>\n",
       "      <td>63</td>\n",
       "      <td>0</td>\n",
       "    </tr>\n",
       "    <tr>\n",
       "      <th>764</th>\n",
       "      <td>2</td>\n",
       "      <td>122</td>\n",
       "      <td>70</td>\n",
       "      <td>27</td>\n",
       "      <td>0</td>\n",
       "      <td>36.8</td>\n",
       "      <td>0.340</td>\n",
       "      <td>27</td>\n",
       "      <td>0</td>\n",
       "    </tr>\n",
       "    <tr>\n",
       "      <th>765</th>\n",
       "      <td>5</td>\n",
       "      <td>121</td>\n",
       "      <td>72</td>\n",
       "      <td>23</td>\n",
       "      <td>112</td>\n",
       "      <td>26.2</td>\n",
       "      <td>0.245</td>\n",
       "      <td>30</td>\n",
       "      <td>0</td>\n",
       "    </tr>\n",
       "    <tr>\n",
       "      <th>766</th>\n",
       "      <td>1</td>\n",
       "      <td>126</td>\n",
       "      <td>60</td>\n",
       "      <td>0</td>\n",
       "      <td>0</td>\n",
       "      <td>30.1</td>\n",
       "      <td>0.349</td>\n",
       "      <td>47</td>\n",
       "      <td>1</td>\n",
       "    </tr>\n",
       "    <tr>\n",
       "      <th>767</th>\n",
       "      <td>1</td>\n",
       "      <td>93</td>\n",
       "      <td>70</td>\n",
       "      <td>31</td>\n",
       "      <td>0</td>\n",
       "      <td>30.4</td>\n",
       "      <td>0.315</td>\n",
       "      <td>23</td>\n",
       "      <td>0</td>\n",
       "    </tr>\n",
       "  </tbody>\n",
       "</table>\n",
       "</div>"
      ],
      "text/plain": [
       "     Pregnancies  Glucose  BloodPressure  SkinThickness  Insulin   BMI  \\\n",
       "763           10      101             76             48      180  32.9   \n",
       "764            2      122             70             27        0  36.8   \n",
       "765            5      121             72             23      112  26.2   \n",
       "766            1      126             60              0        0  30.1   \n",
       "767            1       93             70             31        0  30.4   \n",
       "\n",
       "     DiabetesPedigreeFunction  Age  Outcome  \n",
       "763                     0.171   63        0  \n",
       "764                     0.340   27        0  \n",
       "765                     0.245   30        0  \n",
       "766                     0.349   47        1  \n",
       "767                     0.315   23        0  "
      ]
     },
     "execution_count": 133,
     "metadata": {},
     "output_type": "execute_result"
    }
   ],
   "source": [
    "import pandas as pd\n",
    "import numpy as np\n",
    "import math\n",
    "import matplotlib.pyplot as plt\n",
    "import seaborn as sns\n",
    "from sklearn.linear_model import LinearRegression\n",
    "from sklearn.neighbors import KNeighborsClassifier\n",
    "from sklearn.model_selection import train_test_split\n",
    "\n",
    "diabetes_df = pd.read_csv(\"diabetes.csv\")\n",
    "diabetes_df.tail()"
   ]
  },
  {
   "cell_type": "markdown",
   "id": "b0502042",
   "metadata": {},
   "source": [
    "## 1. In markdown, describe KNN in your own words.\n"
   ]
  },
  {
   "cell_type": "markdown",
   "id": "288bde66",
   "metadata": {},
   "source": [
    "K-nearest neighbors (kNN) is a supervised learning algorithm. Its based on a model of influence determined by finding the distance between a specific variable and all the variables in the selected data. k determines how large the the spear of influence is (closest points). Data points within k are deemed to be part of that class and can be used  to predict the target variable."
   ]
  },
  {
   "cell_type": "markdown",
   "id": "30797ae9",
   "metadata": {},
   "source": [
    "## 2. Using the KNN example from class, write a function that finds the optimal value for k.\n",
    "You should iterate over a range of values and return the k and the score when the\n",
    "accuracy score is maximized. Be sure to only use odd values."
   ]
  },
  {
   "cell_type": "markdown",
   "id": "bfd8c3a6",
   "metadata": {},
   "source": [
    "In a range of 40 k(39); k=0.7619 is optimal. In the data set with range over 535; len(y_train),  it is over fitted and predictabilty becomes flawed. k value drops around k(220)"
   ]
  },
  {
   "cell_type": "code",
   "execution_count": 13,
   "id": "7b41ba8d",
   "metadata": {},
   "outputs": [],
   "source": [
    "X = diabetes_df.drop('Outcome',axis=1)\n",
    "y = diabetes_df['Outcome']\n",
    "\n",
    "X_train, X_test, y_train, y_test = train_test_split(X, y, test_size=0.3, random_state=42)\n",
    "\n",
    "#Standardization-transforming values so mean is 0 and SD is 1\n",
    "from sklearn.preprocessing import StandardScaler\n",
    "sc = StandardScaler()\n",
    "X_train = sc.fit_transform(X_train)\n",
    "X_test = sc.fit_transform(X_test)\n",
    "\n",
    "#knn=KNeighborsClassifier(n_neighbors=3)\n",
    "#knn.fit(X_train, y_train)\n",
    "#y_predict = knn.predict(X_test)\n",
    "#print(y_predict)"
   ]
  },
  {
   "cell_type": "code",
   "execution_count": 161,
   "id": "25fe180d",
   "metadata": {},
   "outputs": [
    {
     "name": "stdout",
     "output_type": "stream",
     "text": [
      "['k(1)=0.6277', 'k(3)=0.71', 'k(5)=0.7186', 'k(7)=0.7056', 'k(9)=0.71', 'k(11)=0.7143', 'k(13)=0.7143', 'k(15)=0.7229', 'k(17)=0.71', 'k(19)=0.7359', 'k(21)=0.7403', 'k(23)=0.7403', 'k(25)=0.7446', 'k(27)=0.7359', 'k(29)=0.7273', 'k(31)=0.7316', 'k(33)=0.7359', 'k(35)=0.7403', 'k(37)=0.7576', 'k(39)=0.7619']\n"
     ]
    }
   ],
   "source": [
    "from sklearn.metrics import accuracy_score  #.score from LinearRegression can also be utilized\n",
    "\n",
    "k_scores=[] #empty list for k values array\n",
    "\n",
    "for k in range(1, 40, 2): # function to iterate over all the odd values in a range of 40 from the taining data \n",
    "    \n",
    "    knn=KNeighborsClassifier(n_neighbors=k)\n",
    "    knn.fit(X_train, y_train)\n",
    "    y_predict = knn.predict(X_test)\n",
    "    \n",
    "    #print \"k\"...k value... accuracy score rounded tp 4 decimal places \n",
    "    k_scores.append(\"k({})={}\".format(k, round(accuracy_score(y_test, y_predict), 4)))\n",
    "\n",
    "print(k_scores)  #print array"
   ]
  },
  {
   "cell_type": "code",
   "execution_count": 141,
   "id": "dc173dbc",
   "metadata": {
    "collapsed": true
   },
   "outputs": [
    {
     "name": "stdout",
     "output_type": "stream",
     "text": [
      "['k(1)=0.6277', 'k(3)=0.71', 'k(5)=0.7186', 'k(7)=0.7056', 'k(9)=0.71', 'k(11)=0.7143', 'k(13)=0.7143', 'k(15)=0.7229', 'k(17)=0.71', 'k(19)=0.7359', 'k(21)=0.7403', 'k(23)=0.7403', 'k(25)=0.7446', 'k(27)=0.7359', 'k(29)=0.7273', 'k(31)=0.7316', 'k(33)=0.7359', 'k(35)=0.7403', 'k(37)=0.7576', 'k(39)=0.7619', 'k(41)=0.7403', 'k(43)=0.7446', 'k(45)=0.7446', 'k(47)=0.7316', 'k(49)=0.7273', 'k(51)=0.7229', 'k(53)=0.7316', 'k(55)=0.7316', 'k(57)=0.7359', 'k(59)=0.7446', 'k(61)=0.7446', 'k(63)=0.7446', 'k(65)=0.7446', 'k(67)=0.7359', 'k(69)=0.7403', 'k(71)=0.7403', 'k(73)=0.7316', 'k(75)=0.7273', 'k(77)=0.7273', 'k(79)=0.7273', 'k(81)=0.7273', 'k(83)=0.7359', 'k(85)=0.7359', 'k(87)=0.7359', 'k(89)=0.7359', 'k(91)=0.7403', 'k(93)=0.7446', 'k(95)=0.7489', 'k(97)=0.7403', 'k(99)=0.7316', 'k(101)=0.7359', 'k(103)=0.7273', 'k(105)=0.7316', 'k(107)=0.7316', 'k(109)=0.7403', 'k(111)=0.7403', 'k(113)=0.7403', 'k(115)=0.7359', 'k(117)=0.7316', 'k(119)=0.7186', 'k(121)=0.7229', 'k(123)=0.7229', 'k(125)=0.7273', 'k(127)=0.7186', 'k(129)=0.71', 'k(131)=0.71', 'k(133)=0.71', 'k(135)=0.71', 'k(137)=0.71', 'k(139)=0.71', 'k(141)=0.7013', 'k(143)=0.7056', 'k(145)=0.7013', 'k(147)=0.7056', 'k(149)=0.697', 'k(151)=0.7013', 'k(153)=0.7013', 'k(155)=0.7013', 'k(157)=0.7056', 'k(159)=0.71', 'k(161)=0.71', 'k(163)=0.7056', 'k(165)=0.7056', 'k(167)=0.71', 'k(169)=0.71', 'k(171)=0.7143', 'k(173)=0.7056', 'k(175)=0.7056', 'k(177)=0.7056', 'k(179)=0.7056', 'k(181)=0.7013', 'k(183)=0.7013', 'k(185)=0.697', 'k(187)=0.697', 'k(189)=0.697', 'k(191)=0.697', 'k(193)=0.6926', 'k(195)=0.684', 'k(197)=0.684', 'k(199)=0.6797', 'k(201)=0.6797', 'k(203)=0.6797', 'k(205)=0.6797', 'k(207)=0.6797', 'k(209)=0.6753', 'k(211)=0.671', 'k(213)=0.6667', 'k(215)=0.671', 'k(217)=0.6667', 'k(219)=0.6667', 'k(221)=0.6667', 'k(223)=0.6667', 'k(225)=0.6667', 'k(227)=0.6623', 'k(229)=0.6623', 'k(231)=0.658', 'k(233)=0.658', 'k(235)=0.658', 'k(237)=0.658', 'k(239)=0.658', 'k(241)=0.6537', 'k(243)=0.6494', 'k(245)=0.645', 'k(247)=0.645', 'k(249)=0.6494', 'k(251)=0.6537', 'k(253)=0.6494', 'k(255)=0.6494', 'k(257)=0.6537', 'k(259)=0.6537', 'k(261)=0.6537', 'k(263)=0.6537', 'k(265)=0.6537', 'k(267)=0.6537', 'k(269)=0.6537', 'k(271)=0.6537', 'k(273)=0.6537', 'k(275)=0.6537', 'k(277)=0.6537', 'k(279)=0.6537', 'k(281)=0.6537', 'k(283)=0.6537', 'k(285)=0.6537', 'k(287)=0.6537', 'k(289)=0.6537', 'k(291)=0.6537', 'k(293)=0.6537', 'k(295)=0.6537', 'k(297)=0.6537', 'k(299)=0.6537', 'k(301)=0.6537', 'k(303)=0.6537', 'k(305)=0.6537', 'k(307)=0.6537', 'k(309)=0.6537', 'k(311)=0.6537', 'k(313)=0.6537', 'k(315)=0.6537', 'k(317)=0.6537', 'k(319)=0.6537', 'k(321)=0.6537', 'k(323)=0.6537', 'k(325)=0.6537', 'k(327)=0.6537', 'k(329)=0.6537', 'k(331)=0.6537', 'k(333)=0.6537', 'k(335)=0.6537', 'k(337)=0.6537', 'k(339)=0.6537', 'k(341)=0.6537', 'k(343)=0.6537', 'k(345)=0.6537', 'k(347)=0.6537', 'k(349)=0.6537', 'k(351)=0.6537', 'k(353)=0.6537', 'k(355)=0.6537', 'k(357)=0.6537', 'k(359)=0.6537', 'k(361)=0.6537', 'k(363)=0.6537', 'k(365)=0.6537', 'k(367)=0.6537', 'k(369)=0.6537', 'k(371)=0.6537', 'k(373)=0.6537', 'k(375)=0.6537', 'k(377)=0.6537', 'k(379)=0.6537', 'k(381)=0.6537', 'k(383)=0.6537', 'k(385)=0.6537', 'k(387)=0.6537', 'k(389)=0.6537', 'k(391)=0.6537', 'k(393)=0.6537', 'k(395)=0.6537', 'k(397)=0.6537', 'k(399)=0.6537', 'k(401)=0.6537', 'k(403)=0.6537', 'k(405)=0.6537', 'k(407)=0.6537', 'k(409)=0.6537', 'k(411)=0.6537', 'k(413)=0.6537', 'k(415)=0.6537', 'k(417)=0.6537', 'k(419)=0.6537', 'k(421)=0.6537', 'k(423)=0.6537', 'k(425)=0.6537', 'k(427)=0.6537', 'k(429)=0.6537', 'k(431)=0.6537', 'k(433)=0.6537', 'k(435)=0.6537', 'k(437)=0.6537', 'k(439)=0.6537', 'k(441)=0.6537', 'k(443)=0.6537', 'k(445)=0.6537', 'k(447)=0.6537', 'k(449)=0.6537', 'k(451)=0.6537', 'k(453)=0.6537', 'k(455)=0.6537', 'k(457)=0.6537', 'k(459)=0.6537', 'k(461)=0.6537', 'k(463)=0.6537', 'k(465)=0.6537', 'k(467)=0.6537', 'k(469)=0.6537', 'k(471)=0.6537', 'k(473)=0.6537', 'k(475)=0.6537', 'k(477)=0.6537', 'k(479)=0.6537', 'k(481)=0.6537', 'k(483)=0.6537', 'k(485)=0.6537', 'k(487)=0.6537', 'k(489)=0.6537', 'k(491)=0.6537', 'k(493)=0.6537', 'k(495)=0.6537', 'k(497)=0.6537', 'k(499)=0.6537', 'k(501)=0.6537', 'k(503)=0.6537', 'k(505)=0.6537', 'k(507)=0.6537', 'k(509)=0.6537', 'k(511)=0.6537', 'k(513)=0.6537', 'k(515)=0.6537', 'k(517)=0.6537', 'k(519)=0.6537', 'k(521)=0.6537', 'k(523)=0.6537', 'k(525)=0.6537', 'k(527)=0.6537', 'k(529)=0.6537', 'k(531)=0.6537', 'k(533)=0.6537', 'k(535)=0.6537']\n"
     ]
    }
   ],
   "source": [
    "k_scores=[] #empty list for k value array\n",
    "\n",
    "for k in range(1, len(y_train), 2): # len(y_train) - iterating over all the values in the taining data \n",
    "    knn=KNeighborsClassifier(n_neighbors=k)\n",
    "    knn.fit(X_train, y_train)\n",
    "    y_predict = knn.predict(X_test)\n",
    "    k_scores.append(\"k({})={}\".format(k, round(accuracy_score(y_test, y_predict), 4))) #print \"k\" then the k value followed by the accuracy score\n",
    "print(k_scores)  #print array of k values\n",
    "\n",
    "#stops pred"
   ]
  },
  {
   "cell_type": "code",
   "execution_count": 162,
   "id": "92841701",
   "metadata": {},
   "outputs": [
    {
     "data": {
      "text/html": [
       "<div>\n",
       "<style scoped>\n",
       "    .dataframe tbody tr th:only-of-type {\n",
       "        vertical-align: middle;\n",
       "    }\n",
       "\n",
       "    .dataframe tbody tr th {\n",
       "        vertical-align: top;\n",
       "    }\n",
       "\n",
       "    .dataframe thead th {\n",
       "        text-align: right;\n",
       "    }\n",
       "</style>\n",
       "<table border=\"1\" class=\"dataframe\">\n",
       "  <thead>\n",
       "    <tr style=\"text-align: right;\">\n",
       "      <th></th>\n",
       "      <th>Pregnancies</th>\n",
       "      <th>Glucose</th>\n",
       "      <th>BloodPressure</th>\n",
       "      <th>SkinThickness</th>\n",
       "      <th>Insulin</th>\n",
       "      <th>BMI</th>\n",
       "      <th>DiabetesPedigreeFunction</th>\n",
       "      <th>Age</th>\n",
       "      <th>Actual_Outcome</th>\n",
       "      <th>Predicted_Outcome</th>\n",
       "    </tr>\n",
       "  </thead>\n",
       "  <tbody>\n",
       "    <tr>\n",
       "      <th>0</th>\n",
       "      <td>0.523387</td>\n",
       "      <td>-0.739446</td>\n",
       "      <td>-0.444600</td>\n",
       "      <td>0.720042</td>\n",
       "      <td>0.956067</td>\n",
       "      <td>0.232733</td>\n",
       "      <td>-0.152282</td>\n",
       "      <td>0.786051</td>\n",
       "      <td>0</td>\n",
       "      <td>0</td>\n",
       "    </tr>\n",
       "    <tr>\n",
       "      <th>1</th>\n",
       "      <td>-0.590921</td>\n",
       "      <td>-0.289349</td>\n",
       "      <td>0.329998</td>\n",
       "      <td>0.661122</td>\n",
       "      <td>-0.691043</td>\n",
       "      <td>0.433777</td>\n",
       "      <td>-1.077306</td>\n",
       "      <td>-1.059081</td>\n",
       "      <td>0</td>\n",
       "      <td>0</td>\n",
       "    </tr>\n",
       "    <tr>\n",
       "      <th>2</th>\n",
       "      <td>-0.590921</td>\n",
       "      <td>-0.417948</td>\n",
       "      <td>-0.171213</td>\n",
       "      <td>-1.224301</td>\n",
       "      <td>-0.691043</td>\n",
       "      <td>-0.145702</td>\n",
       "      <td>-1.044503</td>\n",
       "      <td>-1.059081</td>\n",
       "      <td>0</td>\n",
       "      <td>0</td>\n",
       "    </tr>\n",
       "    <tr>\n",
       "      <th>3</th>\n",
       "      <td>1.080541</td>\n",
       "      <td>-0.450098</td>\n",
       "      <td>0.557822</td>\n",
       "      <td>-1.224301</td>\n",
       "      <td>-0.691043</td>\n",
       "      <td>-0.878919</td>\n",
       "      <td>1.245094</td>\n",
       "      <td>0.031224</td>\n",
       "      <td>0</td>\n",
       "      <td>0</td>\n",
       "    </tr>\n",
       "    <tr>\n",
       "      <th>4</th>\n",
       "      <td>0.801964</td>\n",
       "      <td>0.482248</td>\n",
       "      <td>1.013468</td>\n",
       "      <td>-1.224301</td>\n",
       "      <td>-0.691043</td>\n",
       "      <td>-0.252136</td>\n",
       "      <td>-0.873932</td>\n",
       "      <td>1.373138</td>\n",
       "      <td>0</td>\n",
       "      <td>0</td>\n",
       "    </tr>\n",
       "    <tr>\n",
       "      <th>5</th>\n",
       "      <td>0.523387</td>\n",
       "      <td>-0.578697</td>\n",
       "      <td>0.193304</td>\n",
       "      <td>0.661122</td>\n",
       "      <td>0.956067</td>\n",
       "      <td>0.670299</td>\n",
       "      <td>-0.499986</td>\n",
       "      <td>1.792486</td>\n",
       "      <td>0</td>\n",
       "      <td>0</td>\n",
       "    </tr>\n",
       "    <tr>\n",
       "      <th>6</th>\n",
       "      <td>-0.869498</td>\n",
       "      <td>-1.607492</td>\n",
       "      <td>-0.900247</td>\n",
       "      <td>-0.163750</td>\n",
       "      <td>-0.032199</td>\n",
       "      <td>-1.375615</td>\n",
       "      <td>-0.503266</td>\n",
       "      <td>-0.975211</td>\n",
       "      <td>0</td>\n",
       "      <td>0</td>\n",
       "    </tr>\n",
       "    <tr>\n",
       "      <th>7</th>\n",
       "      <td>-1.148075</td>\n",
       "      <td>-0.128599</td>\n",
       "      <td>-3.087349</td>\n",
       "      <td>-1.224301</td>\n",
       "      <td>-0.691043</td>\n",
       "      <td>0.209081</td>\n",
       "      <td>1.494391</td>\n",
       "      <td>0.869920</td>\n",
       "      <td>0</td>\n",
       "      <td>0</td>\n",
       "    </tr>\n",
       "    <tr>\n",
       "      <th>8</th>\n",
       "      <td>-0.033767</td>\n",
       "      <td>1.060945</td>\n",
       "      <td>0.193304</td>\n",
       "      <td>0.484364</td>\n",
       "      <td>0.401251</td>\n",
       "      <td>-0.086571</td>\n",
       "      <td>-0.454063</td>\n",
       "      <td>0.282833</td>\n",
       "      <td>0</td>\n",
       "      <td>0</td>\n",
       "    </tr>\n",
       "    <tr>\n",
       "      <th>9</th>\n",
       "      <td>0.244810</td>\n",
       "      <td>0.835896</td>\n",
       "      <td>0.466692</td>\n",
       "      <td>-1.224301</td>\n",
       "      <td>-0.691043</td>\n",
       "      <td>0.197255</td>\n",
       "      <td>-0.847690</td>\n",
       "      <td>2.631182</td>\n",
       "      <td>0</td>\n",
       "      <td>1</td>\n",
       "    </tr>\n",
       "  </tbody>\n",
       "</table>\n",
       "</div>"
      ],
      "text/plain": [
       "   Pregnancies   Glucose  BloodPressure  SkinThickness   Insulin       BMI  \\\n",
       "0     0.523387 -0.739446      -0.444600       0.720042  0.956067  0.232733   \n",
       "1    -0.590921 -0.289349       0.329998       0.661122 -0.691043  0.433777   \n",
       "2    -0.590921 -0.417948      -0.171213      -1.224301 -0.691043 -0.145702   \n",
       "3     1.080541 -0.450098       0.557822      -1.224301 -0.691043 -0.878919   \n",
       "4     0.801964  0.482248       1.013468      -1.224301 -0.691043 -0.252136   \n",
       "5     0.523387 -0.578697       0.193304       0.661122  0.956067  0.670299   \n",
       "6    -0.869498 -1.607492      -0.900247      -0.163750 -0.032199 -1.375615   \n",
       "7    -1.148075 -0.128599      -3.087349      -1.224301 -0.691043  0.209081   \n",
       "8    -0.033767  1.060945       0.193304       0.484364  0.401251 -0.086571   \n",
       "9     0.244810  0.835896       0.466692      -1.224301 -0.691043  0.197255   \n",
       "\n",
       "   DiabetesPedigreeFunction       Age  Actual_Outcome  Predicted_Outcome  \n",
       "0                 -0.152282  0.786051               0                  0  \n",
       "1                 -1.077306 -1.059081               0                  0  \n",
       "2                 -1.044503 -1.059081               0                  0  \n",
       "3                  1.245094  0.031224               0                  0  \n",
       "4                 -0.873932  1.373138               0                  0  \n",
       "5                 -0.499986  1.792486               0                  0  \n",
       "6                 -0.503266 -0.975211               0                  0  \n",
       "7                  1.494391  0.869920               0                  0  \n",
       "8                 -0.454063  0.282833               0                  0  \n",
       "9                 -0.847690  2.631182               0                  1  "
      ]
     },
     "execution_count": 162,
     "metadata": {},
     "output_type": "execute_result"
    }
   ],
   "source": [
    "diabetes_pred_df = pd.DataFrame(X_test, columns = diabetes_df.columns[0:8])\n",
    "diabetes_pred_df['Actual_Outcome'] = y_test.tolist()\n",
    "diabetes_pred_df['Predicted_Outcome'] = y_predict.tolist()\n",
    "\n",
    "diabetes_pred_df.head(10)"
   ]
  },
  {
   "cell_type": "code",
   "execution_count": 76,
   "id": "90fb4dc2",
   "metadata": {},
   "outputs": [
    {
     "data": {
      "text/plain": [
       "array([[137,  14],\n",
       "       [ 41,  39]], dtype=int64)"
      ]
     },
     "execution_count": 76,
     "metadata": {},
     "output_type": "execute_result"
    }
   ],
   "source": [
    "from sklearn.metrics import confusion_matrix, plot_confusion_matrix\n",
    "confusion_matrix(y_test, y_predict)"
   ]
  },
  {
   "cell_type": "code",
   "execution_count": 160,
   "id": "e1cc40ce",
   "metadata": {},
   "outputs": [
    {
     "data": {
      "text/plain": [
       "<sklearn.metrics._plot.confusion_matrix.ConfusionMatrixDisplay at 0x25db2a5c340>"
      ]
     },
     "execution_count": 160,
     "metadata": {},
     "output_type": "execute_result"
    },
    {
     "data": {
      "image/png": "[encoded data removed]",
      "text/plain": [
       "<Figure size 432x288 with 2 Axes>"
      ]
     },
     "metadata": {
      "needs_background": "light"
     },
     "output_type": "display_data"
    }
   ],
   "source": [
    "plot_confusion_matrix(knn, X_test, y_test)"
   ]
  },
  {
   "cell_type": "code",
   "execution_count": 59,
   "id": "ca5149ad",
   "metadata": {},
   "outputs": [
    {
     "data": {
      "text/plain": [
       "0.7619047619047619"
      ]
     },
     "execution_count": 59,
     "metadata": {},
     "output_type": "execute_result"
    }
   ],
   "source": [
    "(137+39)/(137+39+41+14)"
   ]
  },
  {
   "cell_type": "markdown",
   "id": "fb1c51ea",
   "metadata": {},
   "source": [
    "## 3. How did the panel influence your thoughts about working in tech, specifically work in thedata realm?\n",
    "Discuss with your group and summarize your thoughts in under 250 words."
   ]
  },
  {
   "cell_type": "markdown",
   "id": "f8441865",
   "metadata": {},
   "source": [
    "The panel affirmed that a transition to tech from any backgroud is possible. The emphi that the skill I already have add value and can give leverage in obtaining a position.  For me the panel reassurded that even the most seasoned or educated person is continously learning and makes mistakes. Their emphasis on team work and gaining an understanding of the buisness and the intention behind the usage of the data made the idea of working in the data realm feel more managable/approachable. Also gaining an understanding entry level anlyst vs data scientist vs data engineer was insightful.  Specifically, hearing how Michelle started with a similar backgroud to me (molecular bio) and was able to succeed in tech was extremly encouraging.  "
   ]
  },
  {
   "cell_type": "code",
   "execution_count": null,
   "id": "a5f4e073",
   "metadata": {},
   "outputs": [],
   "source": []
  }
 ],
 "metadata": {
  "kernelspec": {
   "display_name": "Python 3 (ipykernel)",
   "language": "python",
   "name": "python3"
  },
  "language_info": {
   "codemirror_mode": {
    "name": "ipython",
    "version": 3
   },
   "file_extension": ".py",
   "mimetype": "text/x-python",
   "name": "python",
   "nbconvert_exporter": "python",
   "pygments_lexer": "ipython3",
   "version": "3.9.7"
  }
 },
 "nbformat": 4,
 "nbformat_minor": 5
}
